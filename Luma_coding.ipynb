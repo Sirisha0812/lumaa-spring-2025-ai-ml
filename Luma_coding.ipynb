{
 "cells": [
  {
   "cell_type": "markdown",
   "metadata": {},
   "source": [
    "## Based Book Recommendation System"
   ]
  },
  {
   "cell_type": "markdown",
   "metadata": {},
   "source": [
    "# Kaggle link - https://www.kaggle.com/datasets/elvinrustam/books-dataset"
   ]
  },
  {
   "cell_type": "markdown",
   "metadata": {},
   "source": [
    "# Step 1: Import Required Libraries"
   ]
  },
  {
   "cell_type": "code",
   "execution_count": 1,
   "metadata": {},
   "outputs": [
    {
     "name": "stderr",
     "output_type": "stream",
     "text": [
      "[nltk_data] Downloading package stopwords to\n",
      "[nltk_data]     /Users/sirishag/nltk_data...\n",
      "[nltk_data]   Package stopwords is already up-to-date!\n",
      "[nltk_data] Downloading package punkt to /Users/sirishag/nltk_data...\n",
      "[nltk_data]   Package punkt is already up-to-date!\n"
     ]
    }
   ],
   "source": [
    "import pandas as pd\n",
    "import numpy as np\n",
    "import nltk\n",
    "import re\n",
    "import string\n",
    "from sklearn.feature_extraction.text import TfidfVectorizer\n",
    "from sklearn.metrics.pairwise import cosine_similarity\n",
    "from nltk.corpus import stopwords\n",
    "from nltk.tokenize import word_tokenize\n",
    "from tqdm import tqdm\n",
    "\n",
    "nltk.download(\"stopwords\")\n",
    "nltk.download(\"punkt\")\n",
    "\n",
    "stop_words = set(stopwords.words('english')) "
   ]
  },
  {
   "cell_type": "markdown",
   "metadata": {},
   "source": [
    "# Step 2: Load Dataset"
   ]
  },
  {
   "cell_type": "code",
   "execution_count": 2,
   "metadata": {},
   "outputs": [
    {
     "data": {
      "text/html": [
       "<div>\n",
       "<style scoped>\n",
       "    .dataframe tbody tr th:only-of-type {\n",
       "        vertical-align: middle;\n",
       "    }\n",
       "\n",
       "    .dataframe tbody tr th {\n",
       "        vertical-align: top;\n",
       "    }\n",
       "\n",
       "    .dataframe thead th {\n",
       "        text-align: right;\n",
       "    }\n",
       "</style>\n",
       "<table border=\"1\" class=\"dataframe\">\n",
       "  <thead>\n",
       "    <tr style=\"text-align: right;\">\n",
       "      <th></th>\n",
       "      <th>Title</th>\n",
       "      <th>Description</th>\n",
       "    </tr>\n",
       "  </thead>\n",
       "  <tbody>\n",
       "    <tr>\n",
       "      <th>0</th>\n",
       "      <td>Goat Brothers</td>\n",
       "      <td>History , General</td>\n",
       "    </tr>\n",
       "    <tr>\n",
       "      <th>1</th>\n",
       "      <td>The Missing Person</td>\n",
       "      <td>Fiction , General</td>\n",
       "    </tr>\n",
       "    <tr>\n",
       "      <th>2</th>\n",
       "      <td>Don't Eat Your Heart Out Cookbook</td>\n",
       "      <td>Cooking , Reference</td>\n",
       "    </tr>\n",
       "    <tr>\n",
       "      <th>3</th>\n",
       "      <td>When Your Corporate Umbrella Begins to Leak: A...</td>\n",
       "      <td>When Your Corporate Umbrella Begins to Leak: A...</td>\n",
       "    </tr>\n",
       "    <tr>\n",
       "      <th>4</th>\n",
       "      <td>Amy Spangler's Breastfeeding : A Parent's Guide</td>\n",
       "      <td>Amy Spangler's Breastfeeding : A Parent's Guide</td>\n",
       "    </tr>\n",
       "  </tbody>\n",
       "</table>\n",
       "</div>"
      ],
      "text/plain": [
       "                                               Title  \\\n",
       "0                                      Goat Brothers   \n",
       "1                                 The Missing Person   \n",
       "2                  Don't Eat Your Heart Out Cookbook   \n",
       "3  When Your Corporate Umbrella Begins to Leak: A...   \n",
       "4    Amy Spangler's Breastfeeding : A Parent's Guide   \n",
       "\n",
       "                                         Description  \n",
       "0                                  History , General  \n",
       "1                                  Fiction , General  \n",
       "2                                Cooking , Reference  \n",
       "3  When Your Corporate Umbrella Begins to Leak: A...  \n",
       "4    Amy Spangler's Breastfeeding : A Parent's Guide  "
      ]
     },
     "execution_count": 2,
     "metadata": {},
     "output_type": "execute_result"
    }
   ],
   "source": [
    "df = pd.read_csv(\"/Users/sirishag/Downloads/Cleaned_BooksDataset.csv\") \n",
    "df = df[[\"Title\", \"Description\"]].dropna().head(500)  \n",
    "\n",
    "# Display sample data\n",
    "df.head()"
   ]
  },
  {
   "cell_type": "markdown",
   "metadata": {},
   "source": [
    " # Step 3: Text preprocessing"
   ]
  },
  {
   "cell_type": "code",
   "execution_count": 3,
   "metadata": {},
   "outputs": [],
   "source": [
    "def preprocess(text):\n",
    "    text = re.sub('[^a-zA-Z]', ' ', text)  # Now works\n",
    "    text = text.lower().split()\n",
    "    text = [word for word in text if word not in stop_words]\n",
    "    return ' '.join(text)\n",
    "\n",
    "df['processed_desc'] = df['Description'].apply(preprocess)"
   ]
  },
  {
   "cell_type": "markdown",
   "metadata": {},
   "source": [
    "# Step 4:# TF-IDF Vectorization"
   ]
  },
  {
   "cell_type": "code",
   "execution_count": 4,
   "metadata": {},
   "outputs": [],
   "source": [
    "tfidf = TfidfVectorizer(max_features=5000)\n",
    "tfidf_matrix = tfidf.fit_transform(df['processed_desc'])\n",
    "\n",
    "# Recommendation function\n",
    "def recommend_books(query, n=5):\n",
    "    processed_query = preprocess(query)\n",
    "    query_vec = tfidf.transform([processed_query])\n",
    "    similarity_scores = cosine_similarity(query_vec, tfidf_matrix).flatten()\n",
    "    top_indices = similarity_scores.argsort()[-n:][::-1]\n",
    "    \n",
    "    recommendations = []\n",
    "    for idx in top_indices:\n",
    "        recommendations.append({\n",
    "            'Title': df.iloc[idx]['Title'],\n",
    "            'similarity': f\"{similarity_scores[idx]*100:.2f}%\"\n",
    "        })\n",
    "    return recommendations"
   ]
  },
  {
   "cell_type": "markdown",
   "metadata": {},
   "source": [
    "# Step 5:  Example usage"
   ]
  },
  {
   "cell_type": "code",
   "execution_count": 5,
   "metadata": {},
   "outputs": [
    {
     "name": "stdout",
     "output_type": "stream",
     "text": [
      "Top Recommendations:\n",
      "1. Future Space: Beyond Earth (22.53% match)\n",
      "2. The National Air and Space Museum (20.74% match)\n",
      "3. Love Invents Us (18.21% match)\n",
      "4. Love, Love, and Love (14.64% match)\n",
      "5. Why Can't I Fall in Love? A 12-Step Program (13.82% match)\n"
     ]
    }
   ],
   "source": [
    "query = \"I love thrilling action novels set in space with a comedic twist\"\n",
    "recommendations = recommend_books(query)\n",
    "print(\"Top Recommendations:\")\n",
    "for i, book in enumerate(recommendations, 1):\n",
    "    print(f\"{i}. {book['Title']} ({book['similarity']} match)\")"
   ]
  },
  {
   "cell_type": "code",
   "execution_count": 6,
   "metadata": {},
   "outputs": [
    {
     "name": "stdout",
     "output_type": "stream",
     "text": [
      "Top Recommendations:\n",
      "1. A delicately personal matter: A J.D. Mulroy mystery novel (32.37% match)\n",
      "2. Ride a Pale Horse (24.11% match)\n",
      "3. Collected Stories of Reynolds Price (12.32% match)\n",
      "4. The 27-Ingredient Chili Con Carne Murders (11.01% match)\n",
      "5. An Atlas of the Difficult World: Poems 1988-1991 (10.34% match)\n"
     ]
    }
   ],
   "source": [
    "query = \"A thrilling mystery novel with detectives and crime-solving\"\n",
    "recommendations = recommend_books(query)\n",
    "print(\"Top Recommendations:\")\n",
    "for i, book in enumerate(recommendations, 1):\n",
    "    print(f\"{i}. {book['Title']} ({book['similarity']} match)\")"
   ]
  },
  {
   "cell_type": "code",
   "execution_count": 8,
   "metadata": {},
   "outputs": [
    {
     "name": "stdout",
     "output_type": "stream",
     "text": [
      "Top Recommendations:\n",
      "1. Links Lore (29.30% match)\n",
      "2. Smoky Mountains Trout Fishing Guide (25.50% match)\n",
      "3. A Thing or Two About Soccer (24.87% match)\n",
      "4. Hacking Exposed: Network Security Secrets & Solutions, Third Edition (Hacking Exposed) (10.06% match)\n",
      "5. Betrayal : How the Clinton Administration Undermined American Security (8.70% match)\n"
     ]
    }
   ],
   "source": [
    "query = \"A good sports Rom-Com\"\n",
    "recommendations = recommend_books(query)\n",
    "print(\"Top Recommendations:\")\n",
    "for i, book in enumerate(recommendations, 1):\n",
    "    print(f\"{i}. {book['Title']} ({book['similarity']} match)\")"
   ]
  }
 ],
 "metadata": {
  "kernelspec": {
   "display_name": "base",
   "language": "python",
   "name": "python3"
  },
  "language_info": {
   "codemirror_mode": {
    "name": "ipython",
    "version": 3
   },
   "file_extension": ".py",
   "mimetype": "text/x-python",
   "name": "python",
   "nbconvert_exporter": "python",
   "pygments_lexer": "ipython3",
   "version": "3.11.5"
  }
 },
 "nbformat": 4,
 "nbformat_minor": 2
}
